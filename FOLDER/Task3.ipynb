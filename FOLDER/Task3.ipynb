{
 "cells": [
  {
   "cell_type": "markdown",
   "id": "d6a7c056-7d10-4cec-81d0-aad77dd94f77",
   "metadata": {},
   "source": [
    "# Hypothesis testing"
   ]
  },
  {
   "cell_type": "markdown",
   "id": "7331d9b4-d4e3-4306-9441-749513e8acaf",
   "metadata": {},
   "source": [
    "# 1.Import Libraries"
   ]
  },
  {
   "cell_type": "code",
   "execution_count": 1,
   "id": "cedc9a61-e372-4f84-8d45-7afd9b26961c",
   "metadata": {},
   "outputs": [],
   "source": [
    "import pandas as pd\n",
    "import numpy as np\n",
    "import scipy.stats as stats\n",
    "import seaborn as sns\n",
    "import matplotlib.pyplot as plt"
   ]
  },
  {
   "cell_type": "markdown",
   "id": "9f00aff4-9ac4-4bf5-92c4-3377d9b482ab",
   "metadata": {},
   "source": [
    "# 2.Load and Explore the Dataset"
   ]
  },
  {
   "cell_type": "code",
   "execution_count": 2,
   "id": "9ac8aafd-82ed-42cd-a2cd-5f10c9ae5b11",
   "metadata": {},
   "outputs": [
    {
     "name": "stdout",
     "output_type": "stream",
     "text": [
      "<class 'pandas.core.frame.DataFrame'>\n",
      "RangeIndex: 891 entries, 0 to 890\n",
      "Data columns (total 12 columns):\n",
      " #   Column       Non-Null Count  Dtype  \n",
      "---  ------       --------------  -----  \n",
      " 0   PassengerId  891 non-null    int64  \n",
      " 1   Survived     891 non-null    int64  \n",
      " 2   Pclass       891 non-null    int64  \n",
      " 3   Name         891 non-null    object \n",
      " 4   Sex          891 non-null    object \n",
      " 5   Age          714 non-null    float64\n",
      " 6   SibSp        891 non-null    int64  \n",
      " 7   Parch        891 non-null    int64  \n",
      " 8   Ticket       891 non-null    object \n",
      " 9   Fare         891 non-null    float64\n",
      " 10  Cabin        204 non-null    object \n",
      " 11  Embarked     889 non-null    object \n",
      "dtypes: float64(2), int64(5), object(5)\n",
      "memory usage: 83.7+ KB\n"
     ]
    }
   ],
   "source": [
    "# Load Titanic dataset\n",
    "titanic_df = pd.read_csv('train.csv')\n",
    "\n",
    "# Display first few rows and info about the dataset\n",
    "titanic_df.head()\n",
    "titanic_df.info()"
   ]
  },
  {
   "cell_type": "markdown",
   "id": "2bc9e544-7e76-47f7-8a89-a269dd6fe5b6",
   "metadata": {},
   "source": [
    "# 3.Clean the Dataset"
   ]
  },
  {
   "cell_type": "code",
   "execution_count": 3,
   "id": "d5781b4f-c6a6-4aed-a6ed-d0a9cb71b751",
   "metadata": {},
   "outputs": [],
   "source": [
    "# Drop rows with missing 'Age' values for simplicity\n",
    "titanic_df = titanic_df.dropna(subset=['Age'])\n",
    "\n",
    "# Drop rows where 'Pclass' is not 1 or 3\n",
    "titanic_df = titanic_df[titanic_df['Pclass'].isin([1, 3])]\n",
    "\n",
    "# Keep relevant columns\n",
    "titanic_df = titanic_df[['Pclass', 'Age']]"
   ]
  },
  {
   "cell_type": "markdown",
   "id": "b2fb0775-9087-46b5-82ba-e68096d46431",
   "metadata": {},
   "source": [
    "# 4.Visualize the Data "
   ]
  },
  {
   "cell_type": "code",
   "execution_count": 4,
   "id": "093acda5-1568-4c8c-895c-88f7bd780044",
   "metadata": {},
   "outputs": [
    {
     "data": {
      "image/png": "[encoded data removed]",
      "text/plain": [
       "<Figure size 640x480 with 1 Axes>"
      ]
     },
     "metadata": {},
     "output_type": "display_data"
    }
   ],
   "source": [
    "# Plot age distributions by class\n",
    "sns.boxplot(x='Pclass', y='Age', data=titanic_df)\n",
    "plt.title('Age Distribution by Class')\n",
    "plt.xlabel('Pclass')\n",
    "plt.ylabel('Age')\n",
    "plt.show()"
   ]
  },
  {
   "cell_type": "markdown",
   "id": "0cb082a5-1f14-4101-a63d-7427072a3019",
   "metadata": {},
   "source": [
    "# 5.Conduct the Two-Sample T-Test"
   ]
  },
  {
   "cell_type": "code",
   "execution_count": 5,
   "id": "6602ea27-b502-400b-b422-073116b2bfb3",
   "metadata": {},
   "outputs": [
    {
     "data": {
      "text/plain": [
       "(10.849122601201033, 6.134470007830625e-25)"
      ]
     },
     "execution_count": 5,
     "metadata": {},
     "output_type": "execute_result"
    }
   ],
   "source": [
    "# Separate age data by class\n",
    "age_class1 = titanic_df[titanic_df['Pclass'] == 1]['Age']\n",
    "age_class3 = titanic_df[titanic_df['Pclass'] == 3]['Age']\n",
    "\n",
    "# Perform two-sample t-test\n",
    "t_stat, p_value = stats.ttest_ind(age_class1, age_class3)\n",
    "\n",
    "t_stat, p_value"
   ]
  },
  {
   "cell_type": "markdown",
   "id": "f458479c-7ef7-4b8c-ba93-1530176774e9",
   "metadata": {},
   "source": [
    "# 6.Interpret the Results"
   ]
  },
  {
   "cell_type": "code",
   "execution_count": 6,
   "id": "483fe5a5-2435-4577-8845-5a2dfb0fb564",
   "metadata": {},
   "outputs": [
    {
     "name": "stdout",
     "output_type": "stream",
     "text": [
      "Reject the null hypothesis: There is a significant difference in age between first class and third class passengers.\n"
     ]
    }
   ],
   "source": [
    "# Interpret results\n",
    "alpha = 0.05  # significance level\n",
    "if p_value < alpha:\n",
    "    print(\"Reject the null hypothesis: There is a significant difference in age between first class and third class passengers.\")\n",
    "else:\n",
    "    print(\"Fail to reject the null hypothesis: There is no significant difference in age between first class and third class passengers.\")"
   ]
  },
  {
   "cell_type": "code",
   "execution_count": 10,
   "id": "7bdd8631-ad6b-402b-9f49-0189a1d83313",
   "metadata": {},
   "outputs": [
    {
     "name": "stdout",
     "output_type": "stream",
     "text": [
      "<class 'pandas.core.frame.DataFrame'>\n",
      "Index: 541 entries, 0 to 890\n",
      "Data columns (total 2 columns):\n",
      " #   Column  Non-Null Count  Dtype  \n",
      "---  ------  --------------  -----  \n",
      " 0   Pclass  541 non-null    int64  \n",
      " 1   Age     541 non-null    float64\n",
      "dtypes: float64(1), int64(1)\n",
      "memory usage: 12.7 KB\n"
     ]
    }
   ],
   "source": [
    "titanic_df.info()"
   ]
  }
 ],
 "metadata": {
  "kernelspec": {
   "display_name": "Python 3 (ipykernel)",
   "language": "python",
   "name": "python3"
  },
  "language_info": {
   "codemirror_mode": {
    "name": "ipython",
    "version": 3
   },
   "file_extension": ".py",
   "mimetype": "text/x-python",
   "name": "python",
   "nbconvert_exporter": "python",
   "pygments_lexer": "ipython3",
   "version": "3.11.0"
  }
 },
 "nbformat": 4,
 "nbformat_minor": 5
}
